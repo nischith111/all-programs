{
 "cells": [
  {
   "cell_type": "code",
   "execution_count": 3,
   "metadata": {},
   "outputs": [
    {
     "name": "stdout",
     "output_type": "stream",
     "text": [
      "     sky airtemp humidity    wind water forecast enjoysport\n",
      "0  sunny    warm   normal  strong  warm     same        yes\n",
      "1  sunny    warm     high  strong  warm     same        yes\n",
      "2  rainy    cold     high  strong  warm   change         no\n",
      "3  sunny    warm     high  strong  cold   change        yes\n",
      "\n",
      "\n",
      "the positive hypothesis are\n",
      "[['sunny', 'warm', 'normal', 'strong', 'warm', 'same'], ['sunny', 'warm', 'high', 'strong', 'warm', 'same'], ['sunny', 'warm', 'high', 'strong', 'cold', 'change']]\n",
      "\n",
      "\n",
      "the negative hypothesis are\n",
      "[['rainy', 'cold', 'high', 'strong', 'warm', 'change']]\n",
      "\n",
      "\n",
      "the maximally specific hypothesis h is\n",
      "['sunny', 'warm', '?', 'strong', '?', '?']\n"
     ]
    }
   ],
   "source": [
    "import pandas as pd\n",
    "data=pd.read_csv(\"prg1.csv\")\n",
    "rowlength=data.shape[0]\n",
    "collength=data.shape[1]\n",
    "print(data)\n",
    "h=['0','0','0','0','0','0']\n",
    "hp=[]\n",
    "hn=[]\n",
    "for i in range (rowlength):\n",
    "    te=[]\n",
    "    te.append(data.sky[i])\n",
    "    te.append(data.airtemp[i])\n",
    "    te.append(data.humidity[i])\n",
    "    te.append(data.wind[i])\n",
    "    te.append(data.water[i])\n",
    "    te.append(data.forecast[i])\n",
    "    \n",
    "    if(data.enjoysport[i]!='no'):\n",
    "        hp.append(te)\n",
    "    else:\n",
    "        hn.append(te)\n",
    "for i in range (len(hp)):\n",
    "    for j in range (collength-1):\n",
    "        if (h[j]=='0'):\n",
    "            h[j]=hp[i][j]\n",
    "        if(h[j]!=hp[i][j]):\n",
    "             h[j]='?'\n",
    "        else:\n",
    "             h[j]=hp[i][j]\n",
    "print('\\n')\n",
    "print('the positive hypothesis are')\n",
    "print(hp)\n",
    "print('\\n')\n",
    "print('the negative hypothesis are')\n",
    "print(hn)\n",
    "print('\\n')\n",
    "print('the maximally specific hypothesis h is')\n",
    "print(h)\n",
    "            "
   ]
  },
  {
   "cell_type": "code",
   "execution_count": null,
   "metadata": {
    "collapsed": true
   },
   "outputs": [],
   "source": []
  }
 ],
 "metadata": {
  "kernelspec": {
   "display_name": "Python 3",
   "language": "python",
   "name": "python3"
  },
  "language_info": {
   "codemirror_mode": {
    "name": "ipython",
    "version": 3
   },
   "file_extension": ".py",
   "mimetype": "text/x-python",
   "name": "python",
   "nbconvert_exporter": "python",
   "pygments_lexer": "ipython3",
   "version": "3.6.3"
  }
 },
 "nbformat": 4,
 "nbformat_minor": 2
}
